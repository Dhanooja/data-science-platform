{
 "cells": [
  {
   "cell_type": "markdown",
   "metadata": {},
   "source": [
    "# Home Credit Default Risk Prediction"
   ]
  },
  {
   "cell_type": "markdown",
   "metadata": {},
   "source": [
    "## 1. Setup shared libraries on path"
   ]
  },
  {
   "cell_type": "code",
   "execution_count": 1,
   "metadata": {},
   "outputs": [],
   "source": [
    "import lib.initShared  # custom library\n",
    "import os"
   ]
  },
  {
   "cell_type": "code",
   "execution_count": 2,
   "metadata": {},
   "outputs": [],
   "source": [
    "#Capture working directory\n",
    "cwd = os.getcwd()"
   ]
  },
  {
   "cell_type": "code",
   "execution_count": 3,
   "metadata": {},
   "outputs": [],
   "source": [
    "# Initialize environment to load custom libraries from shared path\n",
    "lib.initShared.initializeSharedLib(cwd)"
   ]
  },
  {
   "cell_type": "markdown",
   "metadata": {},
   "source": [
    "## 2. Data Ingestion"
   ]
  },
  {
   "cell_type": "markdown",
   "metadata": {},
   "source": [
    "### 2.1. Create Spark session"
   ]
  },
  {
   "cell_type": "code",
   "execution_count": 4,
   "metadata": {},
   "outputs": [],
   "source": [
    "from pyspark.sql import SparkSession"
   ]
  },
  {
   "cell_type": "code",
   "execution_count": 5,
   "metadata": {},
   "outputs": [],
   "source": [
    "spark = SparkSession.builder.appName('HomeCredit').getOrCreate()"
   ]
  },
  {
   "cell_type": "code",
   "execution_count": 6,
   "metadata": {},
   "outputs": [
    {
     "name": "stderr",
     "output_type": "stream",
     "text": [
      "/opt/anaconda3/lib/python3.7/site-packages/sklearn/ensemble/weight_boosting.py:29: DeprecationWarning: numpy.core.umath_tests is an internal NumPy module and should not be imported. It will be removed in a future NumPy release.\n",
      "  from numpy.core.umath_tests import inner1d\n"
     ]
    }
   ],
   "source": [
    "from Encode_Lib import EncodeLib\n",
    "from Model_Fit_Lib import Model_Fit\n",
    "from Feature_Importance_Lib.Feature_Importance import Feature_Importance_Transformer"
   ]
  },
  {
   "cell_type": "markdown",
   "metadata": {},
   "source": [
    "### 2.2 Connect to remote cluster"
   ]
  },
  {
   "cell_type": "code",
   "execution_count": 7,
   "metadata": {},
   "outputs": [],
   "source": [
    "from S3serializer_Lib.S3Serializer import S3Bucket"
   ]
  },
  {
   "cell_type": "code",
   "execution_count": 8,
   "metadata": {},
   "outputs": [
    {
     "name": "stdout",
     "output_type": "stream",
     "text": [
      "Connecting to host  18.212.194.194\n",
      "Connected\n"
     ]
    }
   ],
   "source": [
    "s3=S3Bucket()\n",
    "s3.connect(host = \"18.212.194.194\", username = \"centos\", key = 'data/InternalPOC_Digital.pem')"
   ]
  },
  {
   "cell_type": "markdown",
   "metadata": {},
   "source": [
    "### 2.3 Fetch data from remote cluster"
   ]
  },
  {
   "cell_type": "code",
   "execution_count": 9,
   "metadata": {},
   "outputs": [
    {
     "name": "stdout",
     "output_type": "stream",
     "text": [
      "Getting data...\n",
      "Getting File--> part-00000-ba0f831d-c1e9-4a84-aebd-6fe75d857d71-c000.snappy.parquet\n",
      "Getting File--> part-00001-ba0f831d-c1e9-4a84-aebd-6fe75d857d71-c000.snappy.parquet\n",
      "Getting File--> part-00002-ba0f831d-c1e9-4a84-aebd-6fe75d857d71-c000.snappy.parquet\n",
      "Getting File--> part-00003-ba0f831d-c1e9-4a84-aebd-6fe75d857d71-c000.snappy.parquet\n",
      "Getting File--> _SUCCESS\n",
      "['part-00000-ba0f831d-c1e9-4a84-aebd-6fe75d857d71-c000.snappy.parquet', 'part-00001-ba0f831d-c1e9-4a84-aebd-6fe75d857d71-c000.snappy.parquet', 'part-00002-ba0f831d-c1e9-4a84-aebd-6fe75d857d71-c000.snappy.parquet', 'part-00003-ba0f831d-c1e9-4a84-aebd-6fe75d857d71-c000.snappy.parquet', '_SUCCESS']\n"
     ]
    }
   ],
   "source": [
    "s3.get_dir_remote(cwd+'/data/dataset','home_credit')"
   ]
  },
  {
   "cell_type": "markdown",
   "metadata": {},
   "source": [
    "### 2.4 Load data"
   ]
  },
  {
   "cell_type": "code",
   "execution_count": 10,
   "metadata": {},
   "outputs": [],
   "source": [
    "data=spark.read.parquet(cwd+'/data/dataset')"
   ]
  },
  {
   "cell_type": "markdown",
   "metadata": {},
   "source": [
    "# Data profiling"
   ]
  },
  {
   "cell_type": "code",
   "execution_count": 18,
   "metadata": {},
   "outputs": [
    {
     "name": "stdout",
     "output_type": "stream",
     "text": [
      "+-------+-------------------+\n",
      "|summary|             TARGET|\n",
      "+-------+-------------------+\n",
      "|  count|             307511|\n",
      "|   mean|0.08072881945686496|\n",
      "| stddev| 0.2724186456483938|\n",
      "|    min|                  0|\n",
      "|    max|                  1|\n",
      "+-------+-------------------+\n",
      "\n"
     ]
    }
   ],
   "source": [
    "data.select('TARGET').describe().show()"
   ]
  },
  {
   "cell_type": "markdown",
   "metadata": {},
   "source": [
    "# 3. Data Cleansing\n",
    "\n",
    "#### It performs follwing activities:<br>\n",
    "<li>Removes the column containing highest number(30%) of null values</li>\n",
    "<li>Imputes the remaining null containing columns with frequent occuring value of the respective columns</li>"
   ]
  },
  {
   "cell_type": "code",
   "execution_count": 14,
   "metadata": {},
   "outputs": [],
   "source": [
    "from Data_Cleaning_Lib.CleanLib import DataCleaningLib"
   ]
  },
  {
   "cell_type": "code",
   "execution_count": 15,
   "metadata": {},
   "outputs": [],
   "source": [
    "cln = DataCleaningLib()"
   ]
  },
  {
   "cell_type": "code",
   "execution_count": 16,
   "metadata": {},
   "outputs": [
    {
     "name": "stdout",
     "output_type": "stream",
     "text": [
      "1.Data Cleaning and Preprocessing\n",
      "processing--> SK_ID_CURR\n",
      "processing--> TARGET\n",
      "processing--> NAME_CONTRACT_TYPE\n",
      "processing--> CODE_GENDER\n",
      "processing--> FLAG_OWN_CAR\n",
      "processing--> FLAG_OWN_REALTY\n",
      "processing--> CNT_CHILDREN\n",
      "processing--> AMT_INCOME_TOTAL\n",
      "processing--> AMT_CREDIT\n",
      "processing--> AMT_ANNUITY\n",
      "processing--> AMT_GOODS_PRICE\n",
      "processing--> NAME_TYPE_SUITE\n",
      "processing--> NAME_INCOME_TYPE\n",
      "processing--> NAME_EDUCATION_TYPE\n",
      "processing--> NAME_FAMILY_STATUS\n",
      "processing--> NAME_HOUSING_TYPE\n",
      "processing--> REGION_POPULATION_RELATIVE\n",
      "processing--> DAYS_BIRTH\n",
      "processing--> DAYS_EMPLOYED\n",
      "processing--> DAYS_REGISTRATION\n",
      "processing--> DAYS_ID_PUBLISH\n",
      "processing--> OWN_CAR_AGE\n",
      "processing--> FLAG_MOBIL\n",
      "processing--> FLAG_EMP_PHONE\n",
      "processing--> FLAG_WORK_PHONE\n",
      "processing--> FLAG_CONT_MOBILE\n",
      "processing--> FLAG_PHONE\n",
      "processing--> FLAG_EMAIL\n",
      "processing--> OCCUPATION_TYPE\n",
      "processing--> CNT_FAM_MEMBERS\n",
      "processing--> REGION_RATING_CLIENT\n",
      "processing--> REGION_RATING_CLIENT_W_CITY\n",
      "processing--> WEEKDAY_APPR_PROCESS_START\n",
      "processing--> HOUR_APPR_PROCESS_START\n",
      "processing--> REG_REGION_NOT_LIVE_REGION\n",
      "processing--> REG_REGION_NOT_WORK_REGION\n",
      "processing--> LIVE_REGION_NOT_WORK_REGION\n",
      "processing--> REG_CITY_NOT_LIVE_CITY\n",
      "processing--> REG_CITY_NOT_WORK_CITY\n",
      "processing--> LIVE_CITY_NOT_WORK_CITY\n",
      "processing--> ORGANIZATION_TYPE\n",
      "processing--> EXT_SOURCE_1\n",
      "processing--> EXT_SOURCE_2\n",
      "processing--> EXT_SOURCE_3\n",
      "processing--> APARTMENTS_AVG\n",
      "processing--> BASEMENTAREA_AVG\n",
      "processing--> YEARS_BEGINEXPLUATATION_AVG\n",
      "processing--> YEARS_BUILD_AVG\n",
      "processing--> COMMONAREA_AVG\n",
      "processing--> ELEVATORS_AVG\n",
      "processing--> ENTRANCES_AVG\n",
      "processing--> FLOORSMAX_AVG\n",
      "processing--> FLOORSMIN_AVG\n",
      "processing--> LANDAREA_AVG\n",
      "processing--> LIVINGAPARTMENTS_AVG\n",
      "processing--> LIVINGAREA_AVG\n",
      "processing--> NONLIVINGAPARTMENTS_AVG\n",
      "processing--> NONLIVINGAREA_AVG\n",
      "processing--> APARTMENTS_MODE\n",
      "processing--> BASEMENTAREA_MODE\n",
      "processing--> YEARS_BEGINEXPLUATATION_MODE\n",
      "processing--> YEARS_BUILD_MODE\n",
      "processing--> COMMONAREA_MODE\n",
      "processing--> ELEVATORS_MODE\n",
      "processing--> ENTRANCES_MODE\n",
      "processing--> FLOORSMAX_MODE\n",
      "processing--> FLOORSMIN_MODE\n",
      "processing--> LANDAREA_MODE\n",
      "processing--> LIVINGAPARTMENTS_MODE\n",
      "processing--> LIVINGAREA_MODE\n",
      "processing--> NONLIVINGAPARTMENTS_MODE\n",
      "processing--> NONLIVINGAREA_MODE\n",
      "processing--> APARTMENTS_MEDI\n",
      "processing--> BASEMENTAREA_MEDI\n",
      "processing--> YEARS_BEGINEXPLUATATION_MEDI\n",
      "processing--> YEARS_BUILD_MEDI\n",
      "processing--> COMMONAREA_MEDI\n",
      "processing--> ELEVATORS_MEDI\n",
      "processing--> ENTRANCES_MEDI\n",
      "processing--> FLOORSMAX_MEDI\n",
      "processing--> FLOORSMIN_MEDI\n",
      "processing--> LANDAREA_MEDI\n",
      "processing--> LIVINGAPARTMENTS_MEDI\n",
      "processing--> LIVINGAREA_MEDI\n",
      "processing--> NONLIVINGAPARTMENTS_MEDI\n",
      "processing--> NONLIVINGAREA_MEDI\n",
      "processing--> FONDKAPREMONT_MODE\n",
      "processing--> HOUSETYPE_MODE\n",
      "processing--> TOTALAREA_MODE\n",
      "processing--> WALLSMATERIAL_MODE\n",
      "processing--> EMERGENCYSTATE_MODE\n",
      "processing--> OBS_30_CNT_SOCIAL_CIRCLE\n",
      "processing--> DEF_30_CNT_SOCIAL_CIRCLE\n",
      "processing--> OBS_60_CNT_SOCIAL_CIRCLE\n",
      "processing--> DEF_60_CNT_SOCIAL_CIRCLE\n",
      "processing--> DAYS_LAST_PHONE_CHANGE\n",
      "processing--> FLAG_DOCUMENT_2\n",
      "processing--> FLAG_DOCUMENT_3\n",
      "processing--> FLAG_DOCUMENT_4\n",
      "processing--> FLAG_DOCUMENT_5\n",
      "processing--> FLAG_DOCUMENT_6\n",
      "processing--> FLAG_DOCUMENT_7\n",
      "processing--> FLAG_DOCUMENT_8\n",
      "processing--> FLAG_DOCUMENT_9\n",
      "processing--> FLAG_DOCUMENT_10\n",
      "processing--> FLAG_DOCUMENT_11\n",
      "processing--> FLAG_DOCUMENT_12\n",
      "processing--> FLAG_DOCUMENT_13\n",
      "processing--> FLAG_DOCUMENT_14\n",
      "processing--> FLAG_DOCUMENT_15\n",
      "processing--> FLAG_DOCUMENT_16\n",
      "processing--> FLAG_DOCUMENT_17\n",
      "processing--> FLAG_DOCUMENT_18\n",
      "processing--> FLAG_DOCUMENT_19\n",
      "processing--> FLAG_DOCUMENT_20\n",
      "processing--> FLAG_DOCUMENT_21\n",
      "processing--> AMT_REQ_CREDIT_BUREAU_HOUR\n",
      "processing--> AMT_REQ_CREDIT_BUREAU_DAY\n",
      "processing--> AMT_REQ_CREDIT_BUREAU_WEEK\n",
      "processing--> AMT_REQ_CREDIT_BUREAU_MON\n",
      "processing--> AMT_REQ_CREDIT_BUREAU_QRT\n",
      "processing--> AMT_REQ_CREDIT_BUREAU_YEAR\n",
      "!-----DONE------!\n",
      "2.IMPUTING CATEGORICAL VALUES\n",
      "Imputing--> NAME_TYPE_SUITE\n",
      "3.IMPUTING NUMERICAL VALUES\n",
      "Final number of columns after pre-processing 72\n"
     ]
    }
   ],
   "source": [
    "data=cln.cleaning(data)"
   ]
  },
  {
   "cell_type": "code",
   "execution_count": 17,
   "metadata": {},
   "outputs": [],
   "source": [
    "data.write.csv(cwd+'data\\cleaned_data.csv')"
   ]
  },
  {
   "cell_type": "code",
   "execution_count": null,
   "metadata": {},
   "outputs": [],
   "source": []
  },
  {
   "cell_type": "code",
   "execution_count": null,
   "metadata": {},
   "outputs": [],
   "source": []
  }
 ],
 "metadata": {
  "kernelspec": {
   "display_name": "Python 3",
   "language": "python",
   "name": "python3"
  },
  "language_info": {
   "codemirror_mode": {
    "name": "ipython",
    "version": 3
   },
   "file_extension": ".py",
   "mimetype": "text/x-python",
   "name": "python",
   "nbconvert_exporter": "python",
   "pygments_lexer": "ipython3",
   "version": "3.7.0"
  }
 },
 "nbformat": 4,
 "nbformat_minor": 2
}
