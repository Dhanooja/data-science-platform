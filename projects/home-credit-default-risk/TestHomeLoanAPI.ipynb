{
 "cells": [
  {
   "cell_type": "markdown",
   "metadata": {},
   "source": [
    "# Test API usage"
   ]
  },
  {
   "cell_type": "code",
   "execution_count": 1,
   "metadata": {},
   "outputs": [],
   "source": [
    "import initShared  # custom library"
   ]
  },
  {
   "cell_type": "code",
   "execution_count": 2,
   "metadata": {},
   "outputs": [],
   "source": [
    "# Initialize environment to load custom libraries from shared path\n",
    "initShared.initialize()"
   ]
  },
  {
   "cell_type": "code",
   "execution_count": 3,
   "metadata": {},
   "outputs": [],
   "source": [
    "import apilib  # shared custom library"
   ]
  },
  {
   "cell_type": "code",
   "execution_count": 4,
   "metadata": {},
   "outputs": [],
   "source": [
    "# Initialize parameters - swagger spec file, app Port\n",
    "swaggerSpecFile = '/home/jupuser/swaggerFiles/swaggerHomeLoan2.yaml'\n",
    "appPort = 8000"
   ]
  },
  {
   "cell_type": "code",
   "execution_count": null,
   "metadata": {},
   "outputs": [
    {
     "name": "stderr",
     "output_type": "stream",
     "text": [
      " * Running on http://0.0.0.0:8000/ (Press CTRL+C to quit)\n",
      "127.0.0.1 - - [02/Jan/2019 04:31:27] \"GET /ui/ HTTP/1.0\" 200 -\n",
      "127.0.0.1 - - [02/Jan/2019 04:31:28] \"GET /ui/css/typography.css HTTP/1.0\" 200 -\n",
      "127.0.0.1 - - [02/Jan/2019 04:31:28] \"GET /ui/css/screen.css HTTP/1.0\" 200 -\n",
      "127.0.0.1 - - [02/Jan/2019 04:31:28] \"GET /ui/css/reset.css HTTP/1.0\" 200 -\n",
      "127.0.0.1 - - [02/Jan/2019 04:31:28] \"GET /ui/lib/object-assign-pollyfill.js HTTP/1.0\" 200 -\n",
      "127.0.0.1 - - [02/Jan/2019 04:31:28] \"GET /ui/lib/jquery.slideto.min.js HTTP/1.0\" 200 -\n",
      "127.0.0.1 - - [02/Jan/2019 04:31:28] \"GET /ui/lib/jquery-1.8.0.min.js HTTP/1.0\" 200 -\n",
      "127.0.0.1 - - [02/Jan/2019 04:31:28] \"GET /ui/lib/jquery.wiggle.min.js HTTP/1.0\" 200 -\n",
      "127.0.0.1 - - [02/Jan/2019 04:31:28] \"GET /ui/lib/jquery.ba-bbq.min.js HTTP/1.0\" 200 -\n",
      "127.0.0.1 - - [02/Jan/2019 04:31:28] \"GET /ui/lib/handlebars-4.0.5.js HTTP/1.0\" 200 -\n",
      "127.0.0.1 - - [02/Jan/2019 04:31:28] \"GET /ui/lib/lodash.min.js HTTP/1.0\" 200 -\n",
      "127.0.0.1 - - [02/Jan/2019 04:31:28] \"GET /ui/lib/backbone-min.js HTTP/1.0\" 200 -\n",
      "127.0.0.1 - - [02/Jan/2019 04:31:29] \"GET /ui/swagger-ui.js HTTP/1.0\" 200 -\n",
      "127.0.0.1 - - [02/Jan/2019 04:31:29] \"GET /ui/lib/highlight.9.1.0.pack.js HTTP/1.0\" 200 -\n",
      "127.0.0.1 - - [02/Jan/2019 04:31:29] \"GET /ui/lib/highlight.9.1.0.pack_extended.js HTTP/1.0\" 200 -\n",
      "127.0.0.1 - - [02/Jan/2019 04:31:29] \"GET /ui/lib/jsoneditor.min.js HTTP/1.0\" 200 -\n",
      "127.0.0.1 - - [02/Jan/2019 04:31:29] \"GET /ui/lib/marked.js HTTP/1.0\" 200 -\n",
      "127.0.0.1 - - [02/Jan/2019 04:31:29] \"GET /ui/lib/swagger-oauth.js HTTP/1.0\" 200 -\n",
      "127.0.0.1 - - [02/Jan/2019 04:31:30] \"GET /ui/images/logo_small.png HTTP/1.0\" 200 -\n",
      "127.0.0.1 - - [02/Jan/2019 04:31:30] \"GET /ui/css/print.css HTTP/1.0\" 200 -\n",
      "127.0.0.1 - - [02/Jan/2019 04:31:35] \"GET /swagger.json HTTP/1.0\" 200 -\n",
      "127.0.0.1 - - [02/Jan/2019 04:31:35] \"GET /ui/images/favicon-32x32.png HTTP/1.0\" 200 -\n",
      "127.0.0.1 - - [02/Jan/2019 04:31:36] \"GET /ui/images/favicon-16x16.png HTTP/1.0\" 200 -\n",
      "127.0.0.1 - - [02/Jan/2019 04:31:39] \"GET /ui/images/throbber.gif HTTP/1.0\" 200 -\n"
     ]
    }
   ],
   "source": [
    "# Swagger UI becomes available after running API on URL http://<serverUrl>:mappedPort/ui\n",
    "# mappedPort is port mapped as per nginx configuration\n",
    "# For port 8000, mappedPort is 9390, thus URL is http://34.198.60.96:9390/ui/\n",
    "\n",
    "# Run API\n",
    "apilib.api_run(swaggerSpecFile, appPort)\n",
    "\n",
    "# To stop the API, interrupt the cell (using button provided) or shutdown notebook (using Notebook interface)"
   ]
  },
  {
   "cell_type": "markdown",
   "metadata": {},
   "source": [
    "# End-of-notebook"
   ]
  }
 ],
 "metadata": {
  "kernelspec": {
   "display_name": "Python 3",
   "language": "python",
   "name": "python3"
  },
  "language_info": {
   "codemirror_mode": {
    "name": "ipython",
    "version": 3
   },
   "file_extension": ".py",
   "mimetype": "text/x-python",
   "name": "python",
   "nbconvert_exporter": "python",
   "pygments_lexer": "ipython3",
   "version": "3.7.0"
  }
 },
 "nbformat": 4,
 "nbformat_minor": 2
}
